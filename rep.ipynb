{
 "cells": [
  {
   "cell_type": "markdown",
   "metadata": {},
   "source": [
    "Saffron UK import data: 2019 - 2023 provided by: https://wits.worldbank.org/trade/comtrade/en/country/GBR/year/2022/tradeflow/Imports/partner/ALL/product/091020"
   ]
  },
  {
   "cell_type": "code",
   "execution_count": 27,
   "metadata": {},
   "outputs": [],
   "source": [
    "import pandas as pd\n",
    "\n",
    "uk_import_path_2019 = \"./uk-imports-data/uk-import-2019.xlsx\"\n",
    "uk_import_path_2020 = \"./uk-imports-data/uk-import-2020.xlsx\"\n",
    "uk_import_path_2021 = \"./uk-imports-data/uk-import-2021.xlsx\"\n",
    "uk_import_path_2022 = \"./uk-imports-data/uk-import-2022.xlsx\"\n",
    "uk_import_path_2023 = \"./uk-imports-data/uk-import-2023.xlsx\"\n",
    "\n",
    "imports_2019 = pd.ExcelFile(uk_import_path_2019)\n",
    "imports_2020 = pd.ExcelFile(uk_import_path_2020)\n",
    "imports_2021 = pd.ExcelFile(uk_import_path_2021)\n",
    "imports_2022 = pd.ExcelFile(uk_import_path_2022)\n",
    "imports_2023 = pd.ExcelFile(uk_import_path_2023)\n",
    "\n",
    "dfs_19 = {sheet_name: imports_2019.parse(sheet_name) \n",
    "          for sheet_name in imports_2019.sheet_names}\n",
    "\n",
    "dfs_20 = {sheet_name: imports_2020.parse(sheet_name) \n",
    "          for sheet_name in imports_2020.sheet_names}\n",
    "\n",
    "dfs_21 = {sheet_name: imports_2021.parse(sheet_name) \n",
    "          for sheet_name in imports_2021.sheet_names}\n",
    "\n",
    "dfs_22 = {sheet_name: imports_2022.parse(sheet_name) \n",
    "          for sheet_name in imports_2022.sheet_names}\n",
    "\n",
    "dfs_23 = {sheet_name: imports_2023.parse(sheet_name) \n",
    "          for sheet_name in imports_2023.sheet_names}\n",
    "\n",
    "\n",
    "data_19 = dfs_19[\"By-HS6Product\"]\n",
    "data_20 = dfs_20[\"By-HS6Product\"]\n",
    "data_21 = dfs_21[\"By-HS6Product\"]\n",
    "data_22 = dfs_22[\"By-HS6Product\"]\n",
    "data_23 = dfs_23[\"By-HS6Product\"]"
   ]
  }
 ],
 "metadata": {
  "kernelspec": {
   "display_name": "base",
   "language": "python",
   "name": "python3"
  },
  "language_info": {
   "codemirror_mode": {
    "name": "ipython",
    "version": 3
   },
   "file_extension": ".py",
   "mimetype": "text/x-python",
   "name": "python",
   "nbconvert_exporter": "python",
   "pygments_lexer": "ipython3",
   "version": "3.12.1"
  }
 },
 "nbformat": 4,
 "nbformat_minor": 2
}
